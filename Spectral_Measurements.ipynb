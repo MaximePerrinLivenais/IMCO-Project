{
 "cells": [
  {
   "cell_type": "code",
   "execution_count": 1,
   "id": "46e28229",
   "metadata": {},
   "outputs": [],
   "source": [
    "import matplotlib.pyplot as plt\n",
    "import numpy as np\n",
    "import pandas as pd\n",
    "import skimage.io as io"
   ]
  },
  {
   "cell_type": "markdown",
   "id": "2699bfdc",
   "metadata": {},
   "source": [
    "# Spectral Measurements\n",
    "\n",
    "## Loading data"
   ]
  },
  {
   "cell_type": "code",
   "execution_count": 2,
   "id": "50bddfc7",
   "metadata": {},
   "outputs": [],
   "source": [
    "spectral_dataframe = pd.read_excel(\"./data/04-b_ColorChart.xlsx\", sheet_name=\"Spectral Measurements\", index_col = 0).T\n",
    "observer_dataframe = pd.read_csv('data/CIE1931_CMF.csv', index_col = 0)\n",
    "\n",
    "d65_illuminance_dataframe = pd.read_csv('data/D65.csv', index_col = 0)\n",
    "d65_XYZ_references = np.array([0.9504, 1.0, 1.0888]).reshape((3, 1))\n",
    "\n",
    "a_illuminance_dataframe = pd.read_csv('data/A.csv', index_col = 0)\n",
    "a_XYZ_references = np.array([1.0985, 1.0, 0.3558]).reshape((3, 1))"
   ]
  },
  {
   "cell_type": "markdown",
   "id": "04d9ad7b",
   "metadata": {},
   "source": [
    "## Code to compute LAB dataframes"
   ]
  },
  {
   "cell_type": "code",
   "execution_count": 3,
   "id": "edb44fef",
   "metadata": {},
   "outputs": [],
   "source": [
    "def function(t):\n",
    "    return  t ** (1 / 3) if t > (6 / 29) ** 3 else (1 / 3) * (6 / 29) ** 2 * t + 4 / 29\n",
    "    \n",
    "def compute_LAB(XYZ_value):\n",
    "    X, Y, Z = XYZ_value\n",
    "    \n",
    "    L = 116 * function(Y) - 16\n",
    "    a = 500 * (function(X) - function(Y))\n",
    "    b = 200 * (function(Y) - function(Z))\n",
    "    \n",
    "    return (L, a, b)\n",
    "\n",
    "def compute_XYZ_values(spectral_dataframe, illuminance_dataframe, observer_dataframe):\n",
    "    x, y, z = np.moveaxis(observer_dataframe.to_numpy(), 1, 0)\n",
    "    illuminance = illuminance_dataframe.to_numpy().reshape(y.shape)\n",
    "    \n",
    "    N = np.sum(illuminance * y)\n",
    "    \n",
    "    XYZ_values = []\n",
    "    \n",
    "    for spectrum_name in spectral_dataframe:\n",
    "        spectrum = spectral_dataframe[spectrum_name].to_numpy()\n",
    "        \n",
    "        X = (1 / N) * np.sum(illuminance * x * spectrum)\n",
    "        Y = (1 / N) * np.sum(illuminance * y * spectrum)\n",
    "        Z = (1 / N) * np.sum(illuminance * z * spectrum)\n",
    "        \n",
    "        XYZ_values.append([X, Y, Z])\n",
    "        \n",
    "    return np.array(XYZ_values)\n",
    "\n",
    "def compute_LAB_values(spectral_dataframe, illuminance_dataframe, observer_dataframe, XYZ_references):\n",
    "    XYZ_values = compute_XYZ_values(spectral_dataframe, illuminance_dataframe, observer_dataframe)\n",
    "    XYZ_values = (XYZ_values.T / XYZ_references).T\n",
    "    return np.apply_along_axis(compute_LAB, 1, XYZ_values)\n",
    "\n",
    "def get_LAB_dataframe(spectral_dataframe, illuminance_dataframe, observer_dataframe, XYZ_references):\n",
    "    XYZ_values = compute_LAB_values(spectral_dataframe, illuminance_dataframe, observer_dataframe, XYZ_references)\n",
    "    return pd.DataFrame(XYZ_values, index = spectral_dataframe.T.index, columns =  ['L', 'a', 'b'])"
   ]
  },
  {
   "cell_type": "code",
   "execution_count": 4,
   "id": "03f52a86",
   "metadata": {},
   "outputs": [
    {
     "name": "stdout",
     "output_type": "stream",
     "text": [
      "When using D65 illuminant 24 colors have the 'a' channel > 20.\n",
      "When using A illuminant 22 colors have the 'a' channel > 20.\n"
     ]
    }
   ],
   "source": [
    "d65_LAB_dataframe = get_LAB_dataframe(spectral_dataframe, d65_illuminance_dataframe, observer_dataframe, d65_XYZ_references)\n",
    "a_LAB_dataframe = get_LAB_dataframe(spectral_dataframe, a_illuminance_dataframe, observer_dataframe, a_XYZ_references)\n",
    "\n",
    "print(\"When using D65 illuminant {} colors have the 'a' channel > 20.\".format(np.sum(d65_LAB_dataframe['a'] > 20)))\n",
    "print(\"When using A illuminant {} colors have the 'a' channel > 20.\".format(np.sum(a_LAB_dataframe['a'] > 20)))\n",
    "\n",
    "d65_LAB_dataframe.to_csv('output/D65_LAB.csv')\n",
    "a_LAB_dataframe.to_csv('output/A_LAB.csv')"
   ]
  },
  {
   "cell_type": "markdown",
   "id": "77735598",
   "metadata": {},
   "source": [
    "The difference of number of color having the 'a' composant higher than 20 between Lab values computed from D65 illuminant and A illuminant could be explained by the fact that those 2 illuminants does not try to represent the same white reference. Indeed, the D65 illumant tries to represent the natural light and the A illuminant tries to represent the light emitted by a light bulb.\n",
    "\n",
    "## Color conversion"
   ]
  },
  {
   "cell_type": "code",
   "execution_count": 5,
   "id": "4b7e146d",
   "metadata": {},
   "outputs": [],
   "source": [
    "def compute_SRGB(XYZ_value):\n",
    "    XYZ_to_sRGB_mat  = np.array([[3.2406, -1.5372, -0.4986], [-0.9689, 1.8758, 0.0415], [0.0557, -0.2040, 1.0570]])\n",
    "    return np.clip(np.dot(XYZ_to_sRGB_mat, XYZ_value) * 255, 0, 255).astype(np.uint8)\n",
    "\n",
    "def create_image(sprectral_dataframe, spectrum_names, illuminance_dataframe, observer_dataframe, A_illuminant):\n",
    "    spectrum_list = spectral_dataframe[spectrum_names]  \n",
    "    XYZ_values = compute_XYZ_values(spectrum_list, illuminance_dataframe, observer_dataframe)\n",
    "    if (A_illuminant):\n",
    "        XYZ_values = np.dot(np.array([[0.8652435, 0., 0.], [0., 1., 0.], [0., 0., 3.0598005]]), XYZ_values.T).T\n",
    "    SRGB_values = np.apply_along_axis(compute_SRGB, 1, XYZ_values)\n",
    "    \n",
    "    image_width = len(spectrum_names) // 2\n",
    "    image = np.zeros((200, image_width * 100, 3), dtype = np.uint16)\n",
    "    \n",
    "    for SRGB_index in range(len(SRGB_values)):\n",
    "        col_index = (SRGB_index % image_width) * 100\n",
    "        row_index = (SRGB_index // image_width) * 100\n",
    "        \n",
    "        image[row_index:row_index + 100, col_index:col_index + 100] = SRGB_values[SRGB_index]\n",
    "    \n",
    "    return image\n",
    "\n",
    "def save_image(image, path):\n",
    "    io.imsave(path, image)"
   ]
  },
  {
   "cell_type": "code",
   "execution_count": 6,
   "id": "593c5a1b",
   "metadata": {},
   "outputs": [
    {
     "name": "stderr",
     "output_type": "stream",
     "text": [
      "/tmp/ipykernel_8848/3267843679.py:24: UserWarning: output/D65_sRGB_result.tiff is a low contrast image\n",
      "  io.imsave(path, image)\n"
     ]
    },
    {
     "data": {
      "image/png": "[encoded data removed]",
      "text/plain": [
       "<Figure size 432x288 with 1 Axes>"
      ]
     },
     "metadata": {
      "needs_background": "light"
     },
     "output_type": "display_data"
    }
   ],
   "source": [
    "spectrum_names = ['C1', 'C2', 'C3', 'C4', 'C5', 'C6', 'C7', 'C8', 'C9',\n",
    "                      'K1', 'K2', 'K3', 'K4', 'K5', 'K6', 'K7', 'K8', 'K9']\n",
    "\n",
    "d65_image = create_image(spectral_dataframe, spectrum_names, d65_illuminance_dataframe, observer_dataframe, False)\n",
    "plt.imshow(d65_image)\n",
    "save_image(d65_image, 'output/D65_sRGB_result.tiff')"
   ]
  },
  {
   "cell_type": "code",
   "execution_count": 7,
   "id": "b3902319",
   "metadata": {},
   "outputs": [
    {
     "name": "stderr",
     "output_type": "stream",
     "text": [
      "/tmp/ipykernel_8848/3267843679.py:24: UserWarning: output/A_sRGB_result.tiff is a low contrast image\n",
      "  io.imsave(path, image)\n"
     ]
    },
    {
     "data": {
      "image/png": "[encoded data removed]",
      "text/plain": [
       "<Figure size 432x288 with 1 Axes>"
      ]
     },
     "metadata": {
      "needs_background": "light"
     },
     "output_type": "display_data"
    }
   ],
   "source": [
    "a_image = create_image(spectral_dataframe, spectrum_names, a_illuminance_dataframe, observer_dataframe, True)\n",
    "plt.imshow(a_image)\n",
    "save_image(a_image, 'output/A_sRGB_result.tiff')"
   ]
  }
 ],
 "metadata": {
  "kernelspec": {
   "display_name": "Python 3 (ipykernel)",
   "language": "python",
   "name": "python3"
  },
  "language_info": {
   "codemirror_mode": {
    "name": "ipython",
    "version": 3
   },
   "file_extension": ".py",
   "mimetype": "text/x-python",
   "name": "python",
   "nbconvert_exporter": "python",
   "pygments_lexer": "ipython3",
   "version": "3.9.6"
  }
 },
 "nbformat": 4,
 "nbformat_minor": 5
}
