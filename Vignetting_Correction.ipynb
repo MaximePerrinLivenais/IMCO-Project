{
 "cells": [
  {
   "cell_type": "code",
   "execution_count": null,
   "id": "a5099ddb",
   "metadata": {},
   "outputs": [],
   "source": [
    "import math\n",
    "import numpy as np\n",
    "import skimage.io as io\n",
    "import scipy.stats as stats"
   ]
  },
  {
   "cell_type": "code",
   "execution_count": null,
   "id": "973f3b7f",
   "metadata": {},
   "outputs": [],
   "source": [
    "image = io.imread('image.jpg').mean(axis=2)\n",
    "io.imshow(image, cmap='gray')"
   ]
  },
  {
   "cell_type": "code",
   "execution_count": null,
   "id": "947fef9d",
   "metadata": {},
   "outputs": [],
   "source": [
    "shape = image.shape\n",
    "print(shape)\n",
    "print(image.flatten().shape)\n",
    "print(stats.entropy(image.flatten(), base = 2))"
   ]
  },
  {
   "cell_type": "markdown",
   "id": "d3f373fe",
   "metadata": {},
   "source": [
    "# Polynom check"
   ]
  },
  {
   "cell_type": "code",
   "execution_count": null,
   "id": "fce5669c",
   "metadata": {},
   "outputs": [],
   "source": [
    "def check_polynom(coeffs):\n",
    "    a, b, c = coeffs\n",
    "    \n",
    "    if (a > 0 and b == 0 and c == 0): # C1\n",
    "        return True\n",
    "    elif (a >= 0 and b > 0 and c == 0): # C2\n",
    "        return True\n",
    "    elif (c == 0 and b < 0 and -a <= 2 * b): # C3\n",
    "        return True\n",
    "    elif (c > 0 and b ** 2 < 3 * a * c): # C4\n",
    "        return True\n",
    "    elif (c > 0 and b ** 2 == 3 * a * c and b >= 0): # C5\n",
    "        return True\n",
    "    elif (c > 0 and b ** 2 == 3 * a * c and -b >= 3 * c): # C6\n",
    "        return True\n",
    "    elif (c == 0):\n",
    "        return False\n",
    "    \n",
    "    right_root = (-2 * b + math.sqrt(4 * b ** 2 - 12 * a * c)) / (6 * c)\n",
    "    \n",
    "    if (c > 0 and b ** 2 > 3 * a * c and right_root <= 0): # C7\n",
    "        return True\n",
    "    \n",
    "    left_root = (-2 * b - math.sqrt(4 * b ** 2 - 12 * a * c)) / (6 * c)\n",
    "    \n",
    "    if (c < 0 and b ** 2 > 3 * a * c and left_root >= 1): # C8\n",
    "        return True\n",
    "    \n",
    "    return c < 0 and b ** 2 > 3 * a * c and right_root >= 1 and left_root <= 0 # C9"
   ]
  },
  {
   "cell_type": "markdown",
   "id": "c1e5309e",
   "metadata": {},
   "source": [
    "# Log-entropy"
   ]
  },
  {
   "cell_type": "code",
   "execution_count": null,
   "id": "3d9283de",
   "metadata": {},
   "outputs": [],
   "source": [
    "def compute_center_of_mass(image):\n",
    "    rows, cols = image.shape\n",
    "    image_sum = np.sum(image)\n",
    "    row_indexes = np.arange(1, rows + 1)\n",
    "    row_sum = np.sum(np.multiply(image.T, row_indexes))\n",
    "    col_indexes = np.arange(1, cols + 1)\n",
    "    col_sum = np.sum(np.multiply(image, col_indexes))\n",
    "    return (row_sum // image_sum, col_sum // image_sum)"
   ]
  },
  {
   "cell_type": "code",
   "execution_count": null,
   "id": "675e3fa2",
   "metadata": {},
   "outputs": [],
   "source": [
    "from scipy.ndimage import gaussian_filter\n",
    "\n",
    "def compute_entropy(image):\n",
    "    histogram_length = 256\n",
    "    histogram = np.zeros(histogram_length, dtype = np.float32)\n",
    "    log_intensity = ((histogram_length - 1) / np.log2(histogram_length)) * np.log2(1 + image)\n",
    "    \n",
    "    floor, ceil = np.floor(log_intensity).astype(np.uint8), np.ceil(log_intensity).astype(np.uint8)\n",
    "    np.add.at(histogram, floor, 1 + floor - log_intensity)\n",
    "    np.add.at(histogram, ceil, ceil - log_intensity)\n",
    "    \n",
    "    histogram = gaussian_filter(histogram, sigma = 2.25)\n",
    "    \n",
    "    result = histogram / np.sum(histogram)\n",
    "    \n",
    "    result[result > 0] = result[result > 0] * np.log2(result[result > 0])\n",
    "    return np.sum(result)"
   ]
  },
  {
   "cell_type": "markdown",
   "id": "083c2978",
   "metadata": {},
   "source": [
    "# Compute polynom"
   ]
  },
  {
   "cell_type": "code",
   "execution_count": null,
   "id": "e149a789",
   "metadata": {},
   "outputs": [],
   "source": [
    "def compute_polynom(radius, coeffs):\n",
    "    a, b, c = coeffs\n",
    "    return 1 + a * np.power(radius, 2) + b * np.power(radius, 4) + c * np.power(radius, 6)"
   ]
  },
  {
   "cell_type": "markdown",
   "id": "bc5c9ccb",
   "metadata": {},
   "source": [
    "# Compute radius"
   ]
  },
  {
   "cell_type": "code",
   "execution_count": null,
   "id": "4f4c2e26",
   "metadata": {},
   "outputs": [],
   "source": [
    "def compute_radius(image, image_center):\n",
    "    rows, cols = image.shape\n",
    "    row_center, col_center = image_center\n",
    "    distance = math.sqrt(row_center ** 2 + col_center ** 2)\n",
    "    \n",
    "    radius = np.zeros(rows * cols, dtype = np.float32)\n",
    "    for row in range(rows):\n",
    "        for col in range(cols):\n",
    "            radius[row * cols + col] = math.sqrt((row - row_center) ** 2 + (col - col_center) ** 2) / distance\n",
    "            \n",
    "    return radius"
   ]
  },
  {
   "cell_type": "markdown",
   "id": "cd28195d",
   "metadata": {},
   "source": [
    "# Compute image"
   ]
  },
  {
   "cell_type": "code",
   "execution_count": null,
   "id": "d78cb2c7",
   "metadata": {},
   "outputs": [],
   "source": [
    "def correct_vignetting(image):\n",
    "    base_shape = image.shape\n",
    "    a, b, c, delta = 0.0, 0.0, 0.0, 8.0\n",
    "    \n",
    "    center_of_mass = compute_center_of_mass(image)\n",
    "    radius = compute_radius(image, center_of_mass)\n",
    "    Hmin = compute_entropy(image)\n",
    "    image = image.flatten()\n",
    "    \n",
    "    while (delta > (1 / 256)):\n",
    "        coeffs = np.array([(a + delta, b, c), (a - delta, b, c),\n",
    "                            (a, b + delta, c), (a, b - delta, c),\n",
    "                            (a, b, c + delta), (a, b, c - delta)])\n",
    "        \n",
    "        for vector in coeffs:\n",
    "            if (check_polynom(vector)):\n",
    "                polynom = compute_polynom(radius, vector)\n",
    "                result_image = image * polynom\n",
    "                H = compute_entropy(result_image)\n",
    "                if (Hmin > H):\n",
    "                    Hmin, delta, (a, b, c) = H, 16.0, vector\n",
    "        \n",
    "        delta /= 2\n",
    "        \n",
    "    io.imshow(polynom.reshape(base_shape))\n",
    "    return result_image.reshape(base_shape)"
   ]
  },
  {
   "cell_type": "code",
   "execution_count": null,
   "id": "68d1a1dc",
   "metadata": {},
   "outputs": [],
   "source": [
    "test = correct_vignetting(image)"
   ]
  },
  {
   "cell_type": "code",
   "execution_count": null,
   "id": "51bb6207",
   "metadata": {},
   "outputs": [],
   "source": [
    "import matplotlib.pyplot as plt\n",
    "\n",
    "plt.figure(figsize=(40,40))\n",
    "plt.subplot(131)\n",
    "plt.imshow(test, cmap = 'gray')\n",
    "plt.title('Resulting image');\n",
    "plt.subplot(132)\n",
    "plt.imshow(cm_result, cmap='gray')\n",
    "plt.title('Resulting image with -H');\n",
    "plt.subplot(133)\n",
    "plt.imshow(image, cmap='gray')\n",
    "plt.title('Original image');"
   ]
  },
  {
   "cell_type": "code",
   "execution_count": null,
   "id": "3a6b3809",
   "metadata": {},
   "outputs": [],
   "source": [
    "cm_result = test.copy()"
   ]
  }
 ],
 "metadata": {
  "kernelspec": {
   "display_name": "Python 3 (ipykernel)",
   "language": "python",
   "name": "python3"
  },
  "language_info": {
   "codemirror_mode": {
    "name": "ipython",
    "version": 3
   },
   "file_extension": ".py",
   "mimetype": "text/x-python",
   "name": "python",
   "nbconvert_exporter": "python",
   "pygments_lexer": "ipython3",
   "version": "3.9.6"
  }
 },
 "nbformat": 4,
 "nbformat_minor": 5
}
